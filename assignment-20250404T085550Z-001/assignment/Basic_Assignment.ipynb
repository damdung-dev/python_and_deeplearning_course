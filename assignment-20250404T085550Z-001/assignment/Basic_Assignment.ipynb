{
 "cells": [
  {
   "cell_type": "markdown",
   "id": "8720aefa-3bd6-40b8-9a08-71bfa64af936",
   "metadata": {},
   "source": [
    "----------------------------------------Bài tập lập trình cơ bản-------------------------------------------"
   ]
  },
  {
   "cell_type": "markdown",
   "id": "1d3c7c3b-e857-4ac4-accb-967603acb10a",
   "metadata": {},
   "source": [
    "Bài 1:"
   ]
  },
  {
   "cell_type": "code",
   "execution_count": 4,
   "id": "538832cc-810b-4155-95d8-5d77bbc444b7",
   "metadata": {},
   "outputs": [
    {
     "name": "stdin",
     "output_type": "stream",
     "text": [
      "Nhập vào chiều rộng của hình chữ nhật theo số nguyên:  3\n",
      "Nhập vào chiều dài của hình chữ nhật theo số nguyên:  5\n"
     ]
    },
    {
     "name": "stdout",
     "output_type": "stream",
     "text": [
      "Chu vi của hình chữ nhật: 16\n",
      "Diện tích của hình chữ nhật: 15\n"
     ]
    }
   ],
   "source": [
    "width=int(input(\"Nhập vào chiều rộng của hình chữ nhật theo số nguyên: \"))\n",
    "height=int(input(\"Nhập vào chiều dài của hình chữ nhật theo số nguyên: \"))\n",
    "print(f\"Chu vi của hình chữ nhật: {(width+height)*2}\")\n",
    "print(f\"Diện tích của hình chữ nhật: {width*height}\")"
   ]
  },
  {
   "cell_type": "markdown",
   "id": "c31f6269-f67e-49ed-9e01-8f8a05dc7209",
   "metadata": {},
   "source": [
    "Bài 2:"
   ]
  },
  {
   "cell_type": "code",
   "execution_count": 5,
   "id": "bbfcf530-148f-45c4-b20e-0c2d605539c3",
   "metadata": {},
   "outputs": [
    {
     "name": "stdin",
     "output_type": "stream",
     "text": [
      "Nhập vào số liệu tính theo centimet:  3\n"
     ]
    },
    {
     "name": "stdout",
     "output_type": "stream",
     "text": [
      "Số liệu tính theo decimet: 0.3\n",
      "Số liệu tính theo inch: 1.18\n"
     ]
    }
   ],
   "source": [
    "centimeter=int(input(\"Nhập vào số liệu tính theo centimet: \"))\n",
    "print(f\"Số liệu tính theo decimet: {centimeter/10}\")\n",
    "print(f\"Số liệu tính theo inch: {round((centimeter/2.54),2)}\")"
   ]
  },
  {
   "cell_type": "markdown",
   "id": "4123e1c6-a850-4701-ace9-8c88926d30fe",
   "metadata": {},
   "source": [
    "Bài 3:"
   ]
  },
  {
   "cell_type": "code",
   "execution_count": 8,
   "id": "7cacc370-5d2e-43ec-a612-3018716520b4",
   "metadata": {},
   "outputs": [
    {
     "name": "stdout",
     "output_type": "stream",
     "text": [
      "Số -335 gồm có 3 chữ số\n"
     ]
    }
   ],
   "source": [
    "import random\n",
    "number=random.randint(-999,999)\n",
    "print(f\"Số {number} gồm có {len(str(abs(number)))} chữ số\")"
   ]
  },
  {
   "cell_type": "markdown",
   "id": "a301cc41-be3b-4456-97f8-876e1ab17d99",
   "metadata": {},
   "source": [
    "Bài 4:"
   ]
  },
  {
   "cell_type": "code",
   "execution_count": 9,
   "id": "fe5c0600-4110-43a0-8c11-278ffb8f8141",
   "metadata": {},
   "outputs": [
    {
     "name": "stdout",
     "output_type": "stream",
     "text": [
      "Số 44 là số dương\n",
      "Số 44 có 2 chữ số\n"
     ]
    }
   ],
   "source": [
    "import random\n",
    "def check(number):\n",
    "    print(f\"Số {number} là số dương\") if number>=0 else print(f\"Số {number} là số âm\")\n",
    "    print(f\"Số {number} có {len(str(abs(number)))} chữ số\")\n",
    "number=random.randint(-100,100)\n",
    "check(number)"
   ]
  },
  {
   "cell_type": "markdown",
   "id": "b0793468-e2c5-4aaa-adf7-e990da41fcbe",
   "metadata": {},
   "source": [
    "Bài 5:"
   ]
  },
  {
   "cell_type": "code",
   "execution_count": 15,
   "id": "827a1e0d-de9e-4ba4-8373-37915441442c",
   "metadata": {},
   "outputs": [
    {
     "name": "stdout",
     "output_type": "stream",
     "text": [
      "Normalized của 103 là: 0.6642857142857143\n"
     ]
    }
   ],
   "source": [
    "import random\n",
    "def process(number):\n",
    "    print(f\"Normalized của {number} là: {(number-10)/(150-10)}\")\n",
    "number=random.randint(10,150)\n",
    "process(number)"
   ]
  },
  {
   "cell_type": "markdown",
   "id": "c8806755-e933-474b-a5f3-e5cf29191f12",
   "metadata": {},
   "source": [
    "Bài 6:"
   ]
  },
  {
   "cell_type": "code",
   "execution_count": null,
   "id": "3054c9f0-4fd2-496b-bdf2-52634cade182",
   "metadata": {},
   "outputs": [],
   "source": []
  },
  {
   "cell_type": "markdown",
   "id": "e7570871-6a7e-4788-9aff-5324de25b863",
   "metadata": {},
   "source": [
    "Bài 7:"
   ]
  },
  {
   "cell_type": "code",
   "execution_count": 1,
   "id": "d893a99d-4cef-4375-a8f1-ba03e9461bce",
   "metadata": {},
   "outputs": [
    {
     "name": "stdout",
     "output_type": "stream",
     "text": [
      "ax**2+bx+c=0\n"
     ]
    },
    {
     "name": "stdin",
     "output_type": "stream",
     "text": [
      "a =  1\n",
      "b =  5\n",
      "c =  6\n"
     ]
    },
    {
     "name": "stdout",
     "output_type": "stream",
     "text": [
      "1.0x**2+5.0x+6.0=0\n",
      "Phương trình có 2 nghiệm: x1 = -2.0 và x2 = -3.0\n"
     ]
    }
   ],
   "source": [
    "from math import *\n",
    "def giaiPhuongTrinh(a,b,c):\n",
    "    delta=b**2-4*a*c\n",
    "    if delta>0:\n",
    "        print(f\"Phương trình có 2 nghiệm: x1 = {(-b+sqrt(delta))/(2*a)} và x2 = {(-b-sqrt(delta))/(2*a)}\")\n",
    "    elif delta==0:\n",
    "        print(f\"Phương trình có 1 nghiệm: x = {(-b)/(2*a)}\")\n",
    "    else:\n",
    "        print(f\"Phương trình vô nghiệm\")\n",
    "print(\"ax**2+bx+c=0\")\n",
    "a=float(input(\"a = \"))\n",
    "b=float(input(\"b = \"))\n",
    "c=float(input(\"c = \"))\n",
    "print(f\"{a}x**2+{b}x+{c}=0\")\n",
    "giaiPhuongTrinh(a,b,c)"
   ]
  },
  {
   "cell_type": "markdown",
   "id": "7c71a374-fbaa-4a84-b09b-4d11d44fd94f",
   "metadata": {},
   "source": [
    "Bài 8:"
   ]
  },
  {
   "cell_type": "code",
   "execution_count": 14,
   "id": "82c35145-c88c-48bb-bee8-3864241e53a9",
   "metadata": {},
   "outputs": [
    {
     "name": "stdout",
     "output_type": "stream",
     "text": [
      "Số từ trong chuỗi \"str\" là: 13\n",
      "Kiểu dữ liệu của số 6 là: <class 'str'>\n",
      "Vị trí của số 6: 12\n"
     ]
    }
   ],
   "source": [
    "str=\"Today is Sunday and we don't need to wake up at 6 am\"\n",
    "splited_string=str.split()\n",
    "print(f\"Số từ trong chuỗi \\\"str\\\" là: {len(splited_string)}\")\n",
    "print(f\"Kiểu dữ liệu của số 6 là: {type(splited_string[len(splited_string)-1])}\")\n",
    "print(f\"Vị trí của số 6: {len(splited_string)-1}\")"
   ]
  },
  {
   "cell_type": "code",
   "execution_count": null,
   "id": "78610953-829c-47a0-8805-61cdd6aa3e3b",
   "metadata": {},
   "outputs": [],
   "source": []
  }
 ],
 "metadata": {
  "kernelspec": {
   "display_name": "Python 3 (ipykernel)",
   "language": "python",
   "name": "python3"
  },
  "language_info": {
   "codemirror_mode": {
    "name": "ipython",
    "version": 3
   },
   "file_extension": ".py",
   "mimetype": "text/x-python",
   "name": "python",
   "nbconvert_exporter": "python",
   "pygments_lexer": "ipython3",
   "version": "3.13.2"
  }
 },
 "nbformat": 4,
 "nbformat_minor": 5
}
