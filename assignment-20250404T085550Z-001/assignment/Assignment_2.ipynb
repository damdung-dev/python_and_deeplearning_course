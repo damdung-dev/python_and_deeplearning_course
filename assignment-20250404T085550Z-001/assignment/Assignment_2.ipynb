{
 "cells": [
  {
   "cell_type": "markdown",
   "id": "383aacb7-2021-43dc-b806-cafe31372020",
   "metadata": {},
   "source": [
    "----------------------------------------------------Bài tập phần 2--------------------------------------"
   ]
  },
  {
   "cell_type": "markdown",
   "id": "9a3f8c31-39cd-4778-844e-4af0ece735c6",
   "metadata": {},
   "source": [
    "Bài 1:"
   ]
  },
  {
   "cell_type": "code",
   "execution_count": 4,
   "id": "0bf7183e-1ec5-4cce-a1b1-9bdf5a8947ef",
   "metadata": {},
   "outputs": [
    {
     "name": "stdin",
     "output_type": "stream",
     "text": [
      "Nhập vào một só nguyên:  12\n"
     ]
    },
    {
     "name": "stdout",
     "output_type": "stream",
     "text": [
      "Sô chẵn\n"
     ]
    }
   ],
   "source": [
    "def process(a):\n",
    "    if a%2==0:\n",
    "      print(f\"Sô chẵn\")\n",
    "    else:\n",
    "      print(f\"Số lẻ\")\n",
    "a= int(input(\"Nhập vào một só nguyên: \"))\n",
    "process(a)"
   ]
  },
  {
   "cell_type": "markdown",
   "id": "739cb9e5-df04-42e3-8010-ded43dd7f641",
   "metadata": {},
   "source": [
    "Bài 2:"
   ]
  },
  {
   "cell_type": "code",
   "execution_count": 5,
   "id": "6dd34ba0-f8ec-4555-8cce-2f4e63b6017e",
   "metadata": {},
   "outputs": [
    {
     "name": "stdin",
     "output_type": "stream",
     "text": [
      "Nhập vào một chữ cái:  ae\n"
     ]
    },
    {
     "name": "stdout",
     "output_type": "stream",
     "text": [
      "Bạn chỉ nhập 1 kí tự thôi\n"
     ]
    }
   ],
   "source": [
    "def check(nhap):\n",
    "  if len(nhap)==1:\n",
    "      process(nhap)\n",
    "  else:\n",
    "      print(f\"Bạn chỉ nhập 1 kí tự thôi\")\n",
    "def process(nhap):\n",
    "  listnhap=['a','e','i','o','u']\n",
    "  if nhap in listnhap:\n",
    "    print(\"Chữ cái đã nhập là nguyên âm\")\n",
    "  elif nhap==\"y\":\n",
    "    print(\"Chữ cái đã nhập có thể là nguyên âm hoặc phụ âm\")\n",
    "  else:\n",
    "    print(\"Chữ cái là phụ âm\")\n",
    "\n",
    "nhap=input(\"Nhập vào một chữ cái: \")\n",
    "check(nhap)"
   ]
  },
  {
   "cell_type": "markdown",
   "id": "23d03c80-13ad-40b6-b5ec-250741004dad",
   "metadata": {},
   "source": [
    "Bài 3:"
   ]
  },
  {
   "cell_type": "code",
   "execution_count": 7,
   "id": "a61be801-9278-4126-aec0-515ec28282be",
   "metadata": {},
   "outputs": [
    {
     "name": "stdin",
     "output_type": "stream",
     "text": [
      "Nhập vào số cạnh của 1 hình:  5\n"
     ]
    },
    {
     "name": "stdout",
     "output_type": "stream",
     "text": [
      "Hình có 5 cạnh là hình ngũ giác\n"
     ]
    }
   ],
   "source": [
    "def process(canh):\n",
    "    if canh==3:\n",
    "        print(f\"Hình có {canh} cạnh là hình tam giác\")\n",
    "    elif canh==4:\n",
    "        print(f\"Hình có {canh} cạnh là hình tứ giác\")\n",
    "    elif canh==5:\n",
    "        print(f\"Hình có {canh} cạnh là hình ngũ giác\")\n",
    "    elif canh==6:\n",
    "        print(f\"Hình có {canh} cạnh là hình lục giác\")\n",
    "    elif canh==7:\n",
    "        print(f\"Hình có {canh} cạnh là hình thất giác\")\n",
    "    elif canh==8:\n",
    "        print(f\"Hình có {canh} cạnh là hình bát giác\")\n",
    "    elif canh==9:\n",
    "        print(f\"Hình có {canh} cạnh là hình cửu giác\")\n",
    "    elif canh==10:\n",
    "        print(f\"Hình có {canh} cạnh là hình thập giác\")\n",
    "    else: \n",
    "        print(\"Nhập quá số cạnh cho phép, vui lòng nhập lại\")\n",
    "canh=int(input(\"Nhập vào số cạnh của 1 hình: \"))\n",
    "process(canh)"
   ]
  },
  {
   "cell_type": "markdown",
   "id": "f03a9596-125c-4d22-b74f-32c6b7cd0207",
   "metadata": {},
   "source": [
    "Bài 4:"
   ]
  },
  {
   "cell_type": "code",
   "execution_count": 9,
   "id": "d9646d8c-e3d8-4f73-9831-36f93233f32b",
   "metadata": {},
   "outputs": [
    {
     "name": "stdin",
     "output_type": "stream",
     "text": [
      "Nhập vào tên 1 tháng:  January\n"
     ]
    },
    {
     "name": "stdout",
     "output_type": "stream",
     "text": [
      "Tháng January có 31 ngày\n"
     ]
    }
   ],
   "source": [
    "def main (month):\n",
    "    listmonth=[\"January\",\"February\",\"March\",\"April\",\"May\",\"June\",\"July\",\"August\",\"September\",\"Otober\",\"November\",\"December\"]\n",
    "    if month==listmonth[0] or month==listmonth[2] or month==listmonth[4] or month==listmonth[6] or month==listmonth[7]or month==listmonth[9]or month==listmonth[11]:\n",
    "        print(f\"Tháng {month} có 31 ngày\")\n",
    "    elif month==\"February\":\n",
    "        print(f\"Tháng {month} có 28 hoặc 29 ngày\")\n",
    "    elif month==listmonth[1] or month==listmonth[3] or month==listmonth[5] or month==listmonth[8] or month==listmonth[10]:\n",
    "        print(f\"Tháng {month} có 30 ngày\")\n",
    "    else:\n",
    "        print(f\"Vui lòng kiểm tra lại tên tháng vừa nhập\")\n",
    "month=input(\"Nhập vào tên 1 tháng: \")\n",
    "process(month)"
   ]
  },
  {
   "cell_type": "markdown",
   "id": "706c0f1c-5130-4568-b898-120447893764",
   "metadata": {},
   "source": [
    "Bài 5:"
   ]
  },
  {
   "cell_type": "code",
   "execution_count": 10,
   "id": "21f89509-c011-46ff-b7f2-e3994e6a83d4",
   "metadata": {},
   "outputs": [
    {
     "name": "stdin",
     "output_type": "stream",
     "text": [
      "Nhập vào độ dài cạnh 1:  3\n",
      "Nhập vào độ dài cạnh 2:  4\n",
      "Nhập vào độ dài cạnh 3:  5\n"
     ]
    },
    {
     "name": "stdout",
     "output_type": "stream",
     "text": [
      "Đây là tam giác vuông\n"
     ]
    }
   ],
   "source": [
    "from math import * \n",
    "def check(a,b,c):\n",
    "    if a>=0 and b>=0 and c>=0:\n",
    "        process(a,b,c)\n",
    "    else:\n",
    "        print(f\"Lỗi! Vui lòng kiểm tra lại\")\n",
    "\n",
    "def process(a,b,c):\n",
    "    if a==b or b==c or a==c:\n",
    "        print(f\"Đây là tam giác cân\")\n",
    "    elif a==b and b==c and a==c:\n",
    "        print(f\"Đây là tam giác đều\")\n",
    "    elif a**2==b**2+c**2 or b**2==c**2+a**2 or c**2==a**2+b**2:\n",
    "        print(f\"Đây là tam giác vuông\")\n",
    "    else:\n",
    "        print(f\"Đây là tam giác thường\")\n",
    "        \n",
    "a=float(input(\"Nhập vào độ dài cạnh 1: \"))\n",
    "b=float(input(\"Nhập vào độ dài cạnh 2: \"))\n",
    "c=float(input(\"Nhập vào độ dài cạnh 3: \"))\n",
    "check(a,b,c)"
   ]
  },
  {
   "cell_type": "markdown",
   "id": "c44f6202-1bc4-4711-b5d3-5e4dca627e23",
   "metadata": {},
   "source": [
    "Bài 6:"
   ]
  },
  {
   "cell_type": "code",
   "execution_count": 10,
   "id": "c8564af6-6c41-4093-82e4-2a29010e4e9d",
   "metadata": {},
   "outputs": [
    {
     "name": "stdin",
     "output_type": "stream",
     "text": [
      "Xin mời nhập tên tháng:  June\n",
      "Xin mời nhập ngày:  21\n"
     ]
    },
    {
     "name": "stdout",
     "output_type": "stream",
     "text": [
      "June 21 là mùa xuân\n"
     ]
    }
   ],
   "source": [
    "def checkinput(day, month):\n",
    "    listmonth31=[\"January\",\"March\",\"May\",\"July\",\"August\",\"Otober\",\"December\"]\n",
    "    listmonth30=[\"April\",\"June\",\"September\",\"November\"]\n",
    "    if day<=28 or day<=29 and month==\"february\":\n",
    "        process(day,month)\n",
    "    elif day<=31 and month in listmonth31:\n",
    "        process(day,month)\n",
    "    elif day<=30 and month in listmonth30:\n",
    "        process(day,month)\n",
    "    else:\n",
    "        print(f\"Lỗi! Vui lòng kiểm tra lại\")\n",
    "def process(day,month):\n",
    "    listmonth_Spring=[\"March\",\"April\",\"May\",\"June\"]\n",
    "    listmonth_Summer=[\"June\",\"July\",\"August\",\"September\"]\n",
    "    listmonth_Fall=[\"September\",\"October\",\"November\",\"December\"]\n",
    "    listmonth_Winter=[\"December\",\"January\",\"February\",\"March\"]\n",
    "    if day>=20 and month in listmonth_Spring:\n",
    "        print(f\"{month} {day} là mùa xuân\")\n",
    "    elif day>=21 and month in listmonth_Summer:\n",
    "        print(f\"{month} {day} là mùa hạ\")\n",
    "    elif day>=22 and month in listmonth_Fall:\n",
    "        print(f\"{month} {day} là mùa thu\")\n",
    "    else:\n",
    "        print(f\"{month} {day} là mùa đông\")\n",
    "month=input(\"Xin mời nhập tên tháng: \")\n",
    "day=int(input(\"Xin mời nhập ngày: \"))\n",
    "checkinput(day,month)"
   ]
  },
  {
   "cell_type": "markdown",
   "id": "b955a6eb-4b87-497e-9ced-9ff2425f332d",
   "metadata": {},
   "source": [
    "Bài 7:"
   ]
  },
  {
   "cell_type": "code",
   "execution_count": 20,
   "id": "18d1e7d8-287a-4d46-8a48-aa31e746d4d6",
   "metadata": {},
   "outputs": [
    {
     "name": "stdin",
     "output_type": "stream",
     "text": [
      "Nhập vào một ký tự (A,A+,B,B+,C,C+,D,D+,F):  A\n"
     ]
    },
    {
     "name": "stdout",
     "output_type": "stream",
     "text": [
      "Số điểm tương đương với A là: 4.0\n"
     ]
    }
   ],
   "source": [
    "listkitu=[\"A\",\"A+\",\"B\",\"B+\",\"C\",\"C+\",\"D\",\"D+\",\"F\"]\n",
    "listscore=[4.0,4.0,3.7,3.3,3.0,2.7,2.3,2.0,1.7,1.3,1.0,0]\n",
    "def check(kitu):\n",
    "    process(kitu) if kitu in listkitu else print(\"Lỗi!Xin vui lòng nhập lại\")\n",
    "def process(kitu):\n",
    "    print(f\"Số điểm tương đương với {kitu} là: {listscore[listkitu.index(kitu)]}\")\n",
    "    \n",
    "kitu=input(\"Nhập vào một ký tự (A,A+,B,B+,C,C+,D,D+,F): \")\n",
    "check(kitu)"
   ]
  },
  {
   "cell_type": "markdown",
   "id": "398d46f1-fb89-45d2-92d3-9b8034cd7872",
   "metadata": {},
   "source": [
    "Bài 8:"
   ]
  },
  {
   "cell_type": "code",
   "execution_count": 2,
   "id": "591c2388-1462-414e-b099-02c3403bb2ae",
   "metadata": {},
   "outputs": [
    {
     "name": "stdin",
     "output_type": "stream",
     "text": [
      "Đánh giá của bạn cho nhân viên là:  0.6\n"
     ]
    },
    {
     "name": "stdout",
     "output_type": "stream",
     "text": [
      "Xếp hạng của nhân viên là: Meritorious Performance\n",
      "Mức lương của nhân viên: 1440.0$\n"
     ]
    }
   ],
   "source": [
    "xephang=[0.0,0.4,0.6]\n",
    "ynghia=[\"Unacceptable Performance\",\"Acceptable Performance\",\"Meritorious Performance\"]\n",
    "def process(user):\n",
    "  print(f\"Xếp hạng của nhân viên là: {ynghia[xephang.index(user)]}\\nMức lương của nhân viên: {user*2400}$\")\n",
    "user=float(input(\"Đánh giá của bạn cho nhân viên là: \"))\n",
    "process(user)"
   ]
  },
  {
   "cell_type": "markdown",
   "id": "adbb57f5-00f6-43c6-a03b-d6b80e7e72b3",
   "metadata": {},
   "source": [
    "Bài 9:"
   ]
  },
  {
   "cell_type": "code",
   "execution_count": 3,
   "id": "c421c907-f08c-46a1-904c-32acc14d34e9",
   "metadata": {},
   "outputs": [
    {
     "name": "stdin",
     "output_type": "stream",
     "text": [
      "Nhập vào 1 năm:  2004\n"
     ]
    },
    {
     "name": "stdout",
     "output_type": "stream",
     "text": [
      "Năm 2004 là năm nhuận\n"
     ]
    }
   ],
   "source": [
    "def process(year):\n",
    "  if year%400==0 or year%4==0:\n",
    "    print(f\"Năm {year} là năm nhuận\")\n",
    "  elif year%100==0:\n",
    "    print(f\"Năm {year} không phải năm nhuận\")\n",
    "  else:\n",
    "    print(f\"Năm {year} không phải là năm nhuận\")\n",
    "year=int(input(\"Nhập vào 1 năm: \"))\n",
    "process(year)"
   ]
  },
  {
   "cell_type": "markdown",
   "id": "df8470df-6bf0-486c-aea2-ea8599e87f23",
   "metadata": {},
   "source": [
    "Bài 10:"
   ]
  },
  {
   "cell_type": "code",
   "execution_count": null,
   "id": "60f79fa3-fe43-4ae1-a120-b00a29e18d63",
   "metadata": {},
   "outputs": [],
   "source": [
    "def check(biensoxe):\n",
    "    if len(biensoxe)==6 and biensoxe[0:3].isupper()==True and biensoxe[3:6].isalnum==True:\n",
    "        print(\"Biển số xe hợp lệ\")\n",
    "    elif len(biensoxe)==7 and biensoxe[0:4].isalnum()==True and biensoxe[4:7].isupper==True:\n",
    "        print(\"Biển số xe hợp lệ\")\n",
    "    else:\n",
    "        print(\"Biển số xe không hợp lệ\")\n",
    "        \n",
    "biensoxe=input(\"Nhập vào biển số xe: \")\n",
    "check(biensoxe)"
   ]
  },
  {
   "cell_type": "markdown",
   "id": "59604f9a-be00-4836-9786-8fe970ffa95f",
   "metadata": {},
   "source": [
    "Bài 11:"
   ]
  },
  {
   "cell_type": "code",
   "execution_count": 9,
   "id": "985bf874-852b-41ca-9c04-7aae7e95883e",
   "metadata": {
    "jp-MarkdownHeadingCollapsed": true
   },
   "outputs": [
    {
     "name": "stdin",
     "output_type": "stream",
     "text": [
      "Nhập vào độ tuổi người thứ 1:  6\n",
      "Nhập vào độ tuổi người thứ 2:  25\n",
      "Nhập vào độ tuổi người thứ 3:  67\n",
      "Nhập vào độ tuổi người thứ 4:  80\n",
      "Nhập vào độ tuổi người thứ 5:  12\n",
      "Nhập vào độ tuổi người thứ 6:  2\n",
      "Nhập vào độ tuổi người thứ 7:  65\n",
      "Nhập vào độ tuổi người thứ 8:  \n"
     ]
    },
    {
     "name": "stdout",
     "output_type": "stream",
     "text": [
      "[6, 25, 67, 80, 12, 2, 65]\n",
      "Tổng số tiền cần trả: 105$\n"
     ]
    }
   ],
   "source": [
    "i=1\n",
    "total=0\n",
    "listage=[]\n",
    "while True:\n",
    "    age=input(f\"Nhập vào độ tuổi người thứ {i}: \")\n",
    "    if age=='':\n",
    "        break\n",
    "    else:\n",
    "        age=int(age)\n",
    "        listage.append(age)\n",
    "        i+=1\n",
    "print(listage)\n",
    "for i in listage:\n",
    "    if i<=2:\n",
    "        price=0\n",
    "        total=total+price\n",
    "    elif 3<=i<=12:\n",
    "        price=14\n",
    "        total=total+price\n",
    "    elif i>=65:\n",
    "        price=18\n",
    "        total=total+price\n",
    "    else:\n",
    "        price=23\n",
    "        total=total+price\n",
    "print(f\"Tổng số tiền cần trả: {total}$\")"
   ]
  },
  {
   "cell_type": "code",
   "execution_count": null,
   "id": "97fcdc9b-f046-4c9d-b9fd-4b3a3919143c",
   "metadata": {},
   "outputs": [],
   "source": []
  }
 ],
 "metadata": {
  "kernelspec": {
   "display_name": "Python 3 (ipykernel)",
   "language": "python",
   "name": "python3"
  },
  "language_info": {
   "codemirror_mode": {
    "name": "ipython",
    "version": 3
   },
   "file_extension": ".py",
   "mimetype": "text/x-python",
   "name": "python",
   "nbconvert_exporter": "python",
   "pygments_lexer": "ipython3",
   "version": "3.10.0"
  }
 },
 "nbformat": 4,
 "nbformat_minor": 5
}
